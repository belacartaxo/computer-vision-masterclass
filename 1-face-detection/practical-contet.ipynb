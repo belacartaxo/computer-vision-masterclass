{
 "cells": [
  {
   "cell_type": "markdown",
   "metadata": {},
   "source": [
    "# Face detection\n",
    "## 1. Loading the image\n",
    "<b>Functions used:</b>\n",
    "- cv2.imread(path)"
   ]
  },
  {
   "cell_type": "code",
   "execution_count": 26,
   "metadata": {},
   "outputs": [],
   "source": [
    "import cv2"
   ]
  },
  {
   "cell_type": "code",
   "execution_count": 27,
   "metadata": {},
   "outputs": [],
   "source": [
    "# Reading the image\n",
    "# - cv2.imread(path): Reads an image from the specified file.\n",
    "#   - `path` is the location of the image on your system (e.g., './imgs/people1.jpg').\n",
    "#   - The image is read in **BGR** (Blue, Green, Red) color format by default in OpenCV.\n",
    "#   - If the image cannot be read (wrong path or file type), it will return `None`.\n",
    "\n",
    "path = './imgs/people1.jpg'  # Define the path where the image is located\n",
    "image = cv2.imread(path)  # Read the image from the specified path"
   ]
  },
  {
   "cell_type": "markdown",
   "metadata": {},
   "source": [
    "## 2. Preprocessing the image\n",
    "<b>Functions used:</b>\n",
    "- image.shape\n",
    "- cv2.imshow(\"window_name\", image)\n",
    "- cv2.waitKey(0)\n",
    "- cv2.destroyAllWindows()\n",
    "- cv2.resize(image, new_size)\n",
    "- cv2.cvtColor(image, cv2.COLOR_BGR2GRAY)"
   ]
  },
  {
   "cell_type": "code",
   "execution_count": 28,
   "metadata": {},
   "outputs": [
    {
     "name": "stdout",
     "output_type": "stream",
     "text": [
      "original image shape: (1280, 1920, 3)\n"
     ]
    }
   ],
   "source": [
    "print(\"original image shape:\", image.shape)  \n",
    "# Returns the shape of the image as a tuple: (height, width, channels)\n",
    "# - height: Number of rows (pixels) in the image.\n",
    "# - width: Number of columns (pixels) in the image.\n",
    "# - channels: Number of color channels (e.g., 3 for RGB, 1 for grayscale)."
   ]
  },
  {
   "cell_type": "code",
   "execution_count": 29,
   "metadata": {},
   "outputs": [],
   "source": [
    "def show_image(image):\n",
    "    # Display the image in a window titled \"test\"\n",
    "    # - cv2.imshow(window_name, image): Opens a new window to display the image.\n",
    "    cv2.imshow(\"test\", image)\n",
    "\n",
    "    # Wait for the user to press any key before proceeding\n",
    "    # - cv2.waitKey(delay): Waits for a key press for a specified delay (in milliseconds).\n",
    "    #   - If delay=0, it waits indefinitely for a key press.\n",
    "    #   - The function returns the ASCII value of the key pressed.\n",
    "    # - Necessary in GUI-based applications to prevent the program from closing abruptly.\n",
    "    cv2.waitKey(0)\n",
    "\n",
    "    # Close all OpenCV windows\n",
    "    # - cv2.destroyAllWindows(): Closes all windows opened by OpenCV.\n",
    "    #   - Ensures no residual windows remain after the program ends.\n",
    "    cv2.destroyAllWindows()\n",
    "\n",
    "# Call the function to display the image\n",
    "show_image(image)\n"
   ]
  },
  {
   "cell_type": "markdown",
   "metadata": {},
   "source": [
    "We need to resize the image because it is too large and takes more time to process"
   ]
  },
  {
   "cell_type": "code",
   "execution_count": 30,
   "metadata": {},
   "outputs": [
    {
     "name": "stdout",
     "output_type": "stream",
     "text": [
      "new image shape: (600, 800, 3)\n"
     ]
    }
   ],
   "source": [
    "# Resizing the image to a new size\n",
    "# - cv2.resize(image, size): Resizes the image to the specified size.+\n",
    "#   - `size` is the new size in the form of a tuple (width, height).\n",
    "#     In this case, we set the new size to 800x600 pixels.\n",
    "new_size = (800, 600)\n",
    "image = cv2.resize(image, new_size)\n",
    "\n",
    "# Displaying the new image shape\n",
    "print(\"new image shape:\", image.shape)\n"
   ]
  },
  {
   "cell_type": "code",
   "execution_count": 31,
   "metadata": {},
   "outputs": [],
   "source": [
    "# Displaying the image using the `show_image()` function\n",
    "show_image(image)"
   ]
  },
  {
   "cell_type": "markdown",
   "metadata": {},
   "source": [
    "When converting an image to grayscale, we reduce the amount of information:\n",
    "- The original image has 3 channels (BGR), so for an image of size 600x800, \n",
    "  the total number of pixels with 3 channels is 600 * 800 * 3 = 1,440,000.\n",
    "- When converting to grayscale, each pixel will only have one intensity value \n",
    "  (instead of 3 color channels), reducing the information to 600 * 800 = 480,000.\n",
    "- This reduces the data storage size significantly, making it faster to process, which is why grayscale images are preferred in tasks like face detection.\n",
    "\n",
    "\n",
    "<b>Note:</b> OpenCV works with BGR (Blue, Green, Red) as the default color order, which is the inverse of the more common RGB (Red, Green, Blue) used in many other libraries."
   ]
  },
  {
   "cell_type": "code",
   "execution_count": 32,
   "metadata": {},
   "outputs": [],
   "source": [
    "# Converting the image to grayscale\n",
    "# - cv2.cvtColor(image, cv2.COLOR_BGR2GRAY): Converts the input image to grayscale.\n",
    "#   - `image`: The input image in BGR format (in OpenCV).\n",
    "#   - `cv2.COLOR_BGR2GRAY`: Specifies the color conversion code from BGR to grayscale.\n",
    "#     - BGR (Blue, Green, Red) is the color order used by OpenCV, as opposed to RGB.\n",
    "\n",
    "image_gray = cv2.cvtColor(image, cv2.COLOR_BGR2GRAY)\n",
    "\n",
    "# Displaying the grayscale image using the `show_image()` function\n",
    "show_image(image_gray)\n"
   ]
  },
  {
   "cell_type": "code",
   "execution_count": null,
   "metadata": {},
   "outputs": [],
   "source": []
  }
 ],
 "metadata": {
  "kernelspec": {
   "display_name": "venv",
   "language": "python",
   "name": "python3"
  },
  "language_info": {
   "codemirror_mode": {
    "name": "ipython",
    "version": 3
   },
   "file_extension": ".py",
   "mimetype": "text/x-python",
   "name": "python",
   "nbconvert_exporter": "python",
   "pygments_lexer": "ipython3",
   "version": "3.12.8"
  }
 },
 "nbformat": 4,
 "nbformat_minor": 2
}
