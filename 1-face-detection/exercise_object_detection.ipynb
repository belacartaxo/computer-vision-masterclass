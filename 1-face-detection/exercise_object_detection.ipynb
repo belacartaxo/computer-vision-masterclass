{
 "cells": [
  {
   "cell_type": "markdown",
   "metadata": {},
   "source": [
    "## Object detection\n",
    "In this practical activity, the objective is to apply the Haar Cascade classifiers provided in the course to detect various objects such as cars, clocks, and full bodies, using the additional .xml files in the cascades folder. The goal is to fine-tune the parameters you have learned to achieve the best possible detection results. Explore and adjust parameters like scaleFactor, minNeighbors, and minSize to optimize the accuracy of the detections."
   ]
  },
  {
   "cell_type": "code",
   "execution_count": 16,
   "metadata": {},
   "outputs": [],
   "source": [
    "import cv2"
   ]
  },
  {
   "cell_type": "code",
   "execution_count": 17,
   "metadata": {},
   "outputs": [],
   "source": [
    "def load_and_resize_image(path, size = None):\n",
    "    img = cv2.imread(path)\n",
    "    if (size): img = cv2.resize(img, size)\n",
    "    img_gray = cv2.cvtColor(img, cv2.COLOR_BGR2GRAY)\n",
    "    return img, img_gray"
   ]
  },
  {
   "cell_type": "code",
   "execution_count": 18,
   "metadata": {},
   "outputs": [],
   "source": [
    "def show_img(img):\n",
    "    cv2.imshow(\"image\", img)\n",
    "    cv2.waitKey(0)\n",
    "    cv2.destroyAllWindows()"
   ]
  },
  {
   "cell_type": "code",
   "execution_count": 19,
   "metadata": {},
   "outputs": [],
   "source": [
    "def object_detector(path, img, img_gray, scaleFactor=1.1, minNeighbors=5, minSize=(20,20), maxSize=(100,100)):\n",
    "    detector = cv2.CascadeClassifier(path)\n",
    "    detections = detector.detectMultiScale(img_gray, scaleFactor=scaleFactor, minNeighbors=minNeighbors, minSize=minSize, maxSize=maxSize)\n",
    "\n",
    "    img_detections = img.copy()\n",
    "    for (x, y, w, h) in detections:\n",
    "        cv2.rectangle(img_detections, (x, y), (x+w, y+h), (0, 255, 0), 2)\n",
    "    return img_detections"
   ]
  },
  {
   "cell_type": "markdown",
   "metadata": {},
   "source": [
    "## Clocks"
   ]
  },
  {
   "cell_type": "code",
   "execution_count": 20,
   "metadata": {},
   "outputs": [],
   "source": [
    "clock_img_path = '../imgs/clock.jpg'\n",
    "clock_img, clock_img_gray = load_and_resize_image(clock_img_path, (800, 700))\n",
    "show_img(clock_img)\n",
    "show_img(clock_img_gray)"
   ]
  },
  {
   "cell_type": "code",
   "execution_count": 21,
   "metadata": {},
   "outputs": [],
   "source": [
    "clock_classifier_path = '../classifiers/clocks.xml'\n",
    "show_img(object_detector(clock_classifier_path, clock_img, clock_img_gray, scaleFactor=1.03, minNeighbors=1, minSize=(80,80), maxSize=(250,250)))"
   ]
  },
  {
   "cell_type": "markdown",
   "metadata": {},
   "source": [
    "## Full body"
   ]
  },
  {
   "cell_type": "code",
   "execution_count": 22,
   "metadata": {},
   "outputs": [],
   "source": [
    "fullbody_img_path = '../imgs/people3.jpg'\n",
    "fullbody_img, fullbody_img_gray = load_and_resize_image(fullbody_img_path, (800, 500))\n",
    "show_img(fullbody_img)\n",
    "show_img(fullbody_img_gray)"
   ]
  },
  {
   "cell_type": "code",
   "execution_count": 23,
   "metadata": {},
   "outputs": [],
   "source": [
    "fullbody_classifier_path = '../classifiers/fullbody.xml'\n",
    "show_img(object_detector(fullbody_classifier_path, fullbody_img, fullbody_img_gray, scaleFactor=1.01, minNeighbors=5, minSize=(80,80), maxSize=(250, 250)))"
   ]
  },
  {
   "cell_type": "markdown",
   "metadata": {},
   "source": [
    "## Cars"
   ]
  },
  {
   "cell_type": "code",
   "execution_count": 24,
   "metadata": {},
   "outputs": [],
   "source": [
    "car_img_path = '../imgs/car.jpg'\n",
    "car_img, car_img_gray = load_and_resize_image(car_img_path, (800, 500))\n",
    "show_img(car_img)\n",
    "show_img(car_img_gray)"
   ]
  },
  {
   "cell_type": "code",
   "execution_count": 25,
   "metadata": {},
   "outputs": [],
   "source": [
    "car_classifier_path = '../classifiers/cars.xml'\n",
    "show_img(object_detector(car_classifier_path, car_img, car_img_gray, scaleFactor=1.03, minNeighbors=6, minSize=(30,30), maxSize=(100, 100)))"
   ]
  }
 ],
 "metadata": {
  "kernelspec": {
   "display_name": "venv",
   "language": "python",
   "name": "python3"
  },
  "language_info": {
   "codemirror_mode": {
    "name": "ipython",
    "version": 3
   },
   "file_extension": ".py",
   "mimetype": "text/x-python",
   "name": "python",
   "nbconvert_exporter": "python",
   "pygments_lexer": "ipython3",
   "version": "3.12.8"
  }
 },
 "nbformat": 4,
 "nbformat_minor": 2
}
